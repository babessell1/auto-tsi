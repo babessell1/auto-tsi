{
  "metadata": {
    "kernelspec": {
      "display_name": "Pyolite",
      "language": "python",
      "name": "python"
    },
    "language_info": {
      "codemirror_mode": {
        "name": "python",
        "version": 3
      },
      "file_extension": ".py",
      "mimetype": "text/x-python",
      "name": "python",
      "nbconvert_exporter": "python",
      "pygments_lexer": "ipython3",
      "version": "3.8"
    }
  },
  "nbformat_minor": 5,
  "nbformat": 4,
  "cells": [
    {
      "cell_type": "markdown",
      "source": "# AutoTSI Postprocessing Template",
      "metadata": {},
      "id": "71ab5929-b510-41f0-82ff-03b96c819341"
    },
    {
      "cell_type": "markdown",
      "source": "## Stationary Sampling",
      "metadata": {},
      "id": "fbb27128-8d69-4e0e-a05d-957222c80f3e"
    },
    {
      "cell_type": "code",
      "source": "from source import *\n\nstep_start = 0  # smallest angle (step number) on LiDAR scanner to start interpreting\nstep_end = 1080  # largest angle (step number) on LiDAR scanner to stop interpreting\ndistance_maximum = 3000  # maximum distance from LiDAR to interpret from (cm)\nratio_minimum = 5 * 1440  # minimum ratio of steps/radians to consider a 'tree' (i.e. how flat a measured object can be\nratio_maximum = 150 * 1500  # maximum ratio of steps/radians to consider a 'tree' (i.e. how steep an object can be)\nlimit_noise = 35  # max distance the center of an object can deviate from each time step\ndiameter_minimum = 2 * 25.4  # minimum allowable diameter of a tree to consider\ndiameter_maximum = 60 * 25.4  # maximum allowable diameter of a tree to consider\nlimit_tracking_error = 0.05  # % difference between measurements to consider same tree for tracking",
      "metadata": {},
      "execution_count": null,
      "outputs": [],
      "id": "b5831d5e-4930-43d9-91ab-64673c26b5dc"
    },
    {
      "cell_type": "code",
      "source": "# Process stationary sampling inventory\nstat_file = 'path/to/stationary/test/file.txt' # output of stationary_sampling.py\ntelem_log = 'path/to/telem/file.txt'  # telemetry log from mission planner\nshp_reference = 'path/to/shapefile.shp'  # shapefile to plot over\n\ntree_DF_verify, sample_areas_GDF = dbh_pipeline_stationary(\n    stat_file,\n    telem_log,\n    distance_maximum,\n    step_start,\n    step_end\n)\n\ntree_GDF_resolved = make_geograph(\n    sample_areas_GDF,\n    tree_DF_verify,\n    shp_reference,\n    1\n)\n\ntree_GDF_resolved, basal_area_per_hectare = calculate_basal_area(tree_GDF_resolved)",
      "metadata": {},
      "execution_count": null,
      "outputs": [],
      "id": "9b0d31f1-0e67-4247-95bc-827f95a09403"
    },
    {
      "cell_type": "markdown",
      "source": "## Non-stationary Sampling",
      "metadata": {},
      "id": "e118dfbf-8008-4f27-ab88-20263f0e4001"
    },
    {
      "cell_type": "code",
      "source": "# Process generic inventory, **Requires high-accuracy GPS measurements!\nscanFile = 'path/to/scan/file.txt'  # raw output stream from LiDAR\ntelem_log = 'path/to/telem/file.txt'  # telemetry log from mission planner\nxls_raw = 'path/to/raw/tree/spreadsheet.xlsx'  # spreadsheet to write raw measurments\nshp_reference = 'path/to/shapefile.shp'  # shapefile to plot over\nlevel_tracking = 0  # tracking level, 0 for least strict, 3 for most strict\nxls_resolution = 'path/to/resolved/tree/spreadsheet.xlsx'  # spreadsheet to write resolved measurements",
      "metadata": {},
      "execution_count": null,
      "outputs": [],
      "id": "f5fbd58a-3fe9-4e3b-a358-a4fc196b6fd9"
    },
    {
      "cell_type": "code",
      "source": "# Run standard pipeline to create raw measurement dataframe\ntree_DF_raw = dbh_pipeline(\n    scanFile,\n    telem_log,\n    xls_raw,\n    level_tracking,\n    step_start,\n    step_end,\n    distance_maximum,\n    ratio_minimum,\n    ratio_maximum,\n    limit_noise,\n    diameter_minimum, \n    diameter_maximum,\n    limit_tracking_error\n)\n\nxls_resolution = 'path/to/resolved/tree/spreadsheet.xlsx'  # spreadsheet to write resolved measurements\nthreshold_intersection_filter = 50  # minimum number of overlapping measurements to consider a tree in that location\n\ntree_DF_resolved = resolve_tree_data(\n    tree_DF_raw,\n    xls_resolution, \n    threshold_intersection_filter\n)  # resolve trees\n\ntree_GDF_resolved = make_geograph(\n    sample_areas_GDF, \n    tree_DF_resolved,\n    shp_reference,\n    1\n) # convert to geodataframe\n\ntree_GDF_resolved, basal_area_per_hectare = calculate_basal_area(tree_GDF_resolved)  # calculate basal area",
      "metadata": {},
      "execution_count": null,
      "outputs": [],
      "id": "d36f9a2b-1159-4675-be87-cd862fb07597"
    }
  ]
}